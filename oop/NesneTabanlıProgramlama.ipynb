{
 "cells": [
  {
   "cell_type": "markdown",
   "metadata": {},
   "source": [
    "# nesne tabanlı programlama mantığı "
   ]
  },
  {
   "cell_type": "markdown",
   "metadata": {},
   "source": [
    "bu konuyla beraber nesne tabanlı programlamaya giriş yapıyoruz ve bu konuda biraz nesne tabanlı programlama ** object oriented programming ** en basit anlamıyla gerçek hayatı programlamaya uyarlamak için düşünülebilir. obje veya nesne nedir anlamaya çalışalım.\n",
    " "
   ]
  },
  {
   "cell_type": "markdown",
   "metadata": {},
   "source": [
    "# obje nedir?"
   ]
  },
  {
   "cell_type": "markdown",
   "metadata": {},
   "source": [
    "etrafımıza baktığımızda aslında her şeyin bir eşyanın objesi olduğunu görüyoruz. örneğin bir televizyon kumandası bunun kendi değişik özellikleri (attribute) ve fonksiyonları (method) bulunuyor. kumandanın markası ve tuşları aslında bu kumandanın özelliklerindendir(attribute). kumandanın kırmızı tuşuna bastığımızda televizyonun kapanması ve ses kapatma tuşunda sesin kısılması bu kumandanın methodlarıdır. bunun gibi pythondaki aslında her şey bir objedir. örneğin listeler bu liste objenin bir çok methodu ve özelliği bulunur. "
   ]
  },
  {
   "cell_type": "code",
   "execution_count": 1,
   "metadata": {},
   "outputs": [],
   "source": [
    "liste =[1,2,3,4,5] #liste objesi "
   ]
  },
  {
   "cell_type": "code",
   "execution_count": 5,
   "metadata": {},
   "outputs": [
    {
     "name": "stdout",
     "output_type": "stream",
     "text": [
      "[1, 2, 3, 4, 5, 0, 0]\n"
     ]
    }
   ],
   "source": [
    "liste.append(0) # append methodu\n",
    "print(liste)"
   ]
  },
  {
   "cell_type": "code",
   "execution_count": 7,
   "metadata": {},
   "outputs": [
    {
     "name": "stdout",
     "output_type": "stream",
     "text": [
      "<class 'list'>\n"
     ]
    }
   ],
   "source": [
    "print(type(liste)) #class list"
   ]
  },
  {
   "cell_type": "code",
   "execution_count": null,
   "metadata": {},
   "outputs": [
    {
     "name": "stdout",
     "output_type": "stream",
     "text": [
      "<class 'dict'>\n"
     ]
    }
   ],
   "source": [
    "sozluk=dict() d\n",
    "print(type(sozluk))"
   ]
  },
  {
   "cell_type": "code",
   "execution_count": 10,
   "metadata": {},
   "outputs": [],
   "source": [
    "def toplama(a,b):\n",
    "    return a+b"
   ]
  },
  {
   "cell_type": "code",
   "execution_count": null,
   "metadata": {},
   "outputs": [
    {
     "name": "stdout",
     "output_type": "stream",
     "text": [
      "<class 'function'>\n"
     ]
    }
   ],
   "source": [
    "print(type(toplama)) #fonksiyon ile nesne oluşturduk."
   ]
  },
  {
   "cell_type": "markdown",
   "metadata": {},
   "source": [
    "şimdi kendi sınıflarımızı ve nesnelerimizi oluşturlarım"
   ]
  },
  {
   "cell_type": "code",
   "execution_count": null,
   "metadata": {},
   "outputs": [],
   "source": [
    "class "
   ]
  }
 ],
 "metadata": {
  "kernelspec": {
   "display_name": "sanal_ortam",
   "language": "python",
   "name": "python3"
  },
  "language_info": {
   "codemirror_mode": {
    "name": "ipython",
    "version": 3
   },
   "file_extension": ".py",
   "mimetype": "text/x-python",
   "name": "python",
   "nbconvert_exporter": "python",
   "pygments_lexer": "ipython3",
   "version": "3.12.1"
  }
 },
 "nbformat": 4,
 "nbformat_minor": 2
}
