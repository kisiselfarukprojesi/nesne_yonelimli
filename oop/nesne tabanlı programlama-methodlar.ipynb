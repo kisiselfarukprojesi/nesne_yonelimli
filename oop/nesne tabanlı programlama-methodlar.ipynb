{
 "cells": [
  {
   "cell_type": "markdown",
   "metadata": {},
   "source": [
    "# nesne tabanlı programlama -methodlar"
   ]
  },
  {
   "cell_type": "markdown",
   "metadata": {},
   "source": [
    "method nasıl tanımlanır, ilk olarak bir yazılımcı sınıfı tanımlayalım"
   ]
  },
  {
   "cell_type": "code",
   "execution_count": 3,
   "metadata": {},
   "outputs": [],
   "source": [
    "class Yazilimci():\n",
    "    def __init__(self, isim, soyisim, maas, diller):\n",
    "         self.isim =isim \n",
    "         self.soyisim =soyisim\n",
    "         self.maas= maas\n",
    "         self.diller =diller"
   ]
  },
  {
   "cell_type": "code",
   "execution_count": 4,
   "metadata": {},
   "outputs": [],
   "source": [
    "yazilimci1= Yazilimci(\"faruk\",\" musa\", 987654,['c++','c','python'])"
   ]
  },
  {
   "cell_type": "code",
   "execution_count": 5,
   "metadata": {},
   "outputs": [
    {
     "data": {
      "text/plain": [
       "['c++', 'c', 'python']"
      ]
     },
     "execution_count": 5,
     "metadata": {},
     "output_type": "execute_result"
    }
   ],
   "source": [
    "yazilimci1.diller"
   ]
  },
  {
   "cell_type": "markdown",
   "metadata": {},
   "source": [
    "önceki konuda bunların nasıl yapıldığını biliyoruz. bu classa methodlarımızı tanımlamak için aynı __init__ methodunu tanımladığımız gibi bir classa istediğimiz kadar method tanımlayabiliriz. yazılımcı classına **bilgilerigoster** isimli method tanımlayalım."
   ]
  },
  {
   "cell_type": "code",
   "execution_count": 33,
   "metadata": {},
   "outputs": [],
   "source": [
    "class Yazilimci():\n",
    "    def __init__ (self, isim, soyisim, maas, diller):\n",
    "         self.isim = isim \n",
    "         self.soyisim = soyisim\n",
    "         self.maas= maas\n",
    "         self.diller =diller\n",
    "    \n",
    "    def bilgileriGoster(self):\n",
    "         print(f\"\"\"\n",
    "    çalışan bilgisi:\n",
    "    isim: {self.isim}\n",
    "    soyisim: {self.soyisim}\n",
    "    maas: {self.maas}\n",
    "    diller: {self.diller}\n",
    "               \n",
    "               \"\"\")\n",
    "         \n",
    "    def dil_ekle(self, yeni_dil):\n",
    "         print(\"dil ekleniyor...\")\n",
    "         self.diller.append(yeni_dil)\n",
    "    def zam(self, zam_miktari):\n",
    "         print(\"maaş hesaplanıyor...\")\n",
    "         self.maas += zam_miktari"
   ]
  },
  {
   "cell_type": "code",
   "execution_count": 36,
   "metadata": {},
   "outputs": [],
   "source": [
    "yazilimci2= Yazilimci(\"fa\",\" sa\", 1000,['c','python'])\n"
   ]
  },
  {
   "cell_type": "code",
   "execution_count": 37,
   "metadata": {},
   "outputs": [
    {
     "name": "stdout",
     "output_type": "stream",
     "text": [
      "\n",
      "    çalışan bilgisi:\n",
      "    isim: fa\n",
      "    soyisim:  sa\n",
      "    maas: 1000\n",
      "    diller: ['c', 'python']\n",
      "               \n",
      "               \n"
     ]
    }
   ],
   "source": [
    "yazilimci2.bilgileriGoster()"
   ]
  },
  {
   "cell_type": "code",
   "execution_count": 38,
   "metadata": {},
   "outputs": [
    {
     "name": "stdout",
     "output_type": "stream",
     "text": [
      "dil ekleniyor...\n"
     ]
    }
   ],
   "source": [
    "yazilimci2.dil_ekle(\"java\")"
   ]
  },
  {
   "cell_type": "code",
   "execution_count": 42,
   "metadata": {},
   "outputs": [
    {
     "name": "stdout",
     "output_type": "stream",
     "text": [
      "maaş hesaplanıyor...\n"
     ]
    }
   ],
   "source": [
    "yazilimci2.zam(2000000)"
   ]
  },
  {
   "cell_type": "code",
   "execution_count": 43,
   "metadata": {},
   "outputs": [
    {
     "name": "stdout",
     "output_type": "stream",
     "text": [
      "\n",
      "    çalışan bilgisi:\n",
      "    isim: fa\n",
      "    soyisim:  sa\n",
      "    maas: 2003000\n",
      "    diller: ['c', 'python', 'java']\n",
      "               \n",
      "               \n"
     ]
    }
   ],
   "source": [
    "yazilimci2.bilgileriGoster()"
   ]
  }
 ],
 "metadata": {
  "kernelspec": {
   "display_name": "sanal_ortam",
   "language": "python",
   "name": "python3"
  },
  "language_info": {
   "codemirror_mode": {
    "name": "ipython",
    "version": 3
   },
   "file_extension": ".py",
   "mimetype": "text/x-python",
   "name": "python",
   "nbconvert_exporter": "python",
   "pygments_lexer": "ipython3",
   "version": "3.12.1"
  }
 },
 "nbformat": 4,
 "nbformat_minor": 2
}
