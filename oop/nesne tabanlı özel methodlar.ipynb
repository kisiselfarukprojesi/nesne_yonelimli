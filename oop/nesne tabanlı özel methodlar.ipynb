{
 "cells": [
  {
   "cell_type": "markdown",
   "metadata": {},
   "source": [
    "# nesne tabanlı programlama -özel methodlar \n",
    "\n",
    "özel methodları nasıl yapabileceğimizi öğreneceğiz. özel olarak çağırmadığımız ancak her classa ait methodlardır. çağırmazsak python tarrafında varsayılan olarak gelir. ancak bazılarını bizim tanımlamamız gerekir **__init__** gibi. bu methodları nasıl tanımlayacağımıza bakalım."
   ]
  },
  {
   "cell_type": "code",
   "execution_count": 12,
   "metadata": {},
   "outputs": [],
   "source": [
    "class itap():\n",
    "    pass"
   ]
  },
  {
   "cell_type": "code",
   "execution_count": null,
   "metadata": {},
   "outputs": [],
   "source": [
    "kitap1= Kitap() # __init__ çağırılıyor"
   ]
  },
  {
   "cell_type": "code",
   "execution_count": null,
   "metadata": {},
   "outputs": [
    {
     "ename": "TypeError",
     "evalue": "object of type 'Kitap' has no len()",
     "output_type": "error",
     "traceback": [
      "\u001b[0;31m---------------------------------------------------------------------------\u001b[0m",
      "\u001b[0;31mTypeError\u001b[0m                                 Traceback (most recent call last)",
      "Cell \u001b[0;32mIn[4], line 1\u001b[0m\n\u001b[0;32m----> 1\u001b[0m \u001b[38;5;28;43mlen\u001b[39;49m\u001b[43m(\u001b[49m\u001b[43mkitap1\u001b[49m\u001b[43m)\u001b[49m\n",
      "\u001b[0;31mTypeError\u001b[0m: object of type 'Kitap' has no len()"
     ]
    }
   ],
   "source": [
    "len(kitap1) #__len__ çağırılacak ama tanımlı değil, bunu bizim tanımlamamız lazım."
   ]
  },
  {
   "cell_type": "code",
   "execution_count": 5,
   "metadata": {},
   "outputs": [
    {
     "name": "stdout",
     "output_type": "stream",
     "text": [
      "<__main__.Kitap object at 0x7c6ca03781d0>\n"
     ]
    }
   ],
   "source": [
    "print(kitap1) # __str__ çağırılıyor."
   ]
  },
  {
   "cell_type": "code",
   "execution_count": 6,
   "metadata": {},
   "outputs": [],
   "source": [
    "del kitap1 #bir objeyi siler ve method çağırılır."
   ]
  },
  {
   "cell_type": "code",
   "execution_count": 7,
   "metadata": {},
   "outputs": [
    {
     "ename": "NameError",
     "evalue": "name 'kitap1' is not defined",
     "output_type": "error",
     "traceback": [
      "\u001b[0;31m---------------------------------------------------------------------------\u001b[0m",
      "\u001b[0;31mNameError\u001b[0m                                 Traceback (most recent call last)",
      "Cell \u001b[0;32mIn[7], line 1\u001b[0m\n\u001b[0;32m----> 1\u001b[0m \u001b[43mkitap1\u001b[49m\n",
      "\u001b[0;31mNameError\u001b[0m: name 'kitap1' is not defined"
     ]
    }
   ],
   "source": [
    "kitap1"
   ]
  },
  {
   "cell_type": "markdown",
   "metadata": {},
   "source": [
    "bu methodları kendimiz tanımlarsak bunlar çalışmaya başlayacak."
   ]
  },
  {
   "cell_type": "markdown",
   "metadata": {},
   "source": [
    "# init methodu\n",
    "init methodunu kendimiz tanımlarsak artık kendi init methodumuz çalışacak.\n"
   ]
  },
  {
   "cell_type": "code",
   "execution_count": 24,
   "metadata": {},
   "outputs": [],
   "source": [
    "class kitap_class:\n",
    "    def __init__(self, isim, yazar, sayfa_sayısı, tür):\n",
    "        print(\"kitap oluşturuluyor\")\n",
    "        self.isim= isim\n",
    "        self.yazar= yazar\n",
    "        self.sayfa_sayısı= sayfa_sayısı\n",
    "        self.tür= tür\n"
   ]
  },
  {
   "cell_type": "code",
   "execution_count": 25,
   "metadata": {},
   "outputs": [
    {
     "name": "stdout",
     "output_type": "stream",
     "text": [
      "kitap oluşturuluyor\n"
     ]
    }
   ],
   "source": [
    "kitap1= kitap_class(\"beyaz zambaklar\", \"abc\", 102, \"roman\")"
   ]
  },
  {
   "cell_type": "code",
   "execution_count": 36,
   "metadata": {},
   "outputs": [],
   "source": [
    "class Kitap:\n",
    "    def __init__(self, isim, yazar, sayfa_sayısı, tür):\n",
    "        print(\"kitap oluşturuluyor\")\n",
    "        self.isim= isim\n",
    "        self.yazar= yazar\n",
    "        self.sayfa_sayısı= sayfa_sayısı\n",
    "        self.tür= tür\n",
    "    \n",
    "    def __str__(self):\n",
    "        return f\"\"\"\n",
    "        isim: {self.isim}\n",
    "        yazar: {self.yazar}\n",
    "        sayfa sayısı: {self.sayfa_sayısı}\n",
    "        tür: {self.tür}\n",
    "\"\"\"\n",
    "    def __len__(self):\n",
    "        return self.sayfa_sayısı"
   ]
  },
  {
   "cell_type": "code",
   "execution_count": 37,
   "metadata": {},
   "outputs": [
    {
     "name": "stdout",
     "output_type": "stream",
     "text": [
      "kitap oluşturuluyor\n"
     ]
    }
   ],
   "source": [
    "kitap2 = Kitap(\"Kırmızı Pazartesi\", \"Gabriel García Márquez\", 200, \"Gerilim\")\n"
   ]
  },
  {
   "cell_type": "code",
   "execution_count": 38,
   "metadata": {},
   "outputs": [
    {
     "data": {
      "text/plain": [
       "200"
      ]
     },
     "execution_count": 38,
     "metadata": {},
     "output_type": "execute_result"
    }
   ],
   "source": [
    "len(kitap2)"
   ]
  },
  {
   "cell_type": "code",
   "execution_count": 40,
   "metadata": {},
   "outputs": [
    {
     "name": "stdout",
     "output_type": "stream",
     "text": [
      "\n",
      "        isim: Kırmızı Pazartesi\n",
      "        yazar: Gabriel García Márquez\n",
      "        sayfa sayısı: 200\n",
      "        tür: Gerilim\n",
      "\n"
     ]
    }
   ],
   "source": [
    "print(kitap2)"
   ]
  },
  {
   "cell_type": "code",
   "execution_count": 41,
   "metadata": {},
   "outputs": [],
   "source": [
    "class Kitap:\n",
    "    def __init__(self, isim, yazar, sayfa_sayısı, tür):\n",
    "        print(\"kitap oluşturuluyor\")\n",
    "        self.isim= isim\n",
    "        self.yazar= yazar\n",
    "        self.sayfa_sayısı= sayfa_sayısı\n",
    "        self.tür= tür\n",
    "    \n",
    "    def __str__(self):\n",
    "        return f\"\"\"\n",
    "        isim: {self.isim}\n",
    "        yazar: {self.yazar}\n",
    "        sayfa sayısı: {self.sayfa_sayısı}\n",
    "        tür: {self.tür}\n",
    "\"\"\"\n",
    "    def __len__(self):\n",
    "        return self.sayfa_sayısı\n",
    "    \n",
    "    def __del__(self):\n",
    "        print(\"kitap siliniyor....\")"
   ]
  },
  {
   "cell_type": "code",
   "execution_count": null,
   "metadata": {},
   "outputs": [
    {
     "name": "stdout",
     "output_type": "stream",
     "text": [
      "kitap oluşturuluyor\n"
     ]
    }
   ],
   "source": [
    "kitap3 = Kitap(\"Sefiller\", \"Victor Hugo\", 1200, \"Tarihi Roman\")\n"
   ]
  },
  {
   "cell_type": "code",
   "execution_count": 44,
   "metadata": {},
   "outputs": [
    {
     "name": "stdout",
     "output_type": "stream",
     "text": [
      "kitap siliniyor....\n"
     ]
    }
   ],
   "source": [
    "del kitap3"
   ]
  }
 ],
 "metadata": {
  "kernelspec": {
   "display_name": "sanal_ortam",
   "language": "python",
   "name": "python3"
  },
  "language_info": {
   "codemirror_mode": {
    "name": "ipython",
    "version": 3
   },
   "file_extension": ".py",
   "mimetype": "text/x-python",
   "name": "python",
   "nbconvert_exporter": "python",
   "pygments_lexer": "ipython3",
   "version": "3.12.1"
  }
 },
 "nbformat": 4,
 "nbformat_minor": 2
}
