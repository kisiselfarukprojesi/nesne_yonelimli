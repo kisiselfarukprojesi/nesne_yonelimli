{
 "cells": [
  {
   "cell_type": "code",
   "execution_count": 3,
   "metadata": {},
   "outputs": [],
   "source": [
    "class Çalışan():\n",
    "    def __init__(self,isim,maaş,departman):\n",
    "        print(\"Çalışan sınıfı init fonksiyonu\")\n",
    "        self.isim = isim\n",
    "        self.maaş = maaş    # özellikleri tanımladık\n",
    "        self.departman = departman\n",
    "    def bilgileriGoster(self):\n",
    "        print(\"Çalışan Sınıfının Bilgileri........\")\n",
    "        print(f\"\"\"\n",
    "        İsim: {self.isim}\n",
    "        Maaş: {self.maaş}\n",
    "        Departman: {self.departman}\n",
    "                \"\"\")\n",
    "    def departmanDegistir(self,yeni_departman):\n",
    "        print(\"Departman Değiştiriliyor\")\n",
    "        self.departman = yeni_departman"
   ]
  },
  {
   "cell_type": "code",
   "execution_count": 17,
   "metadata": {},
   "outputs": [],
   "source": [
    "class Yönetici(Çalışan):\n",
    "    def __init__(self, isim, maaş,departman, kişi_sayısı):\n",
    "        print(\"yönetici sınıfının init fonksiyonu\")\n",
    "        self.isim= isim\n",
    "        self.maaş= maaş \n",
    "        self.departman= departman \n",
    "        self.kişi_sayısı= kişi_sayısı\n",
    "\n",
    "    def zam_yap(self, miktar):\n",
    "        print(\"zam yapılıyor...\")\n",
    "        self.maaş +=miktar\n",
    "\n",
    "    def bilgileriGoster(self):\n",
    "        print(\"Çalışan Sınıfının Bilgileri........\")\n",
    "        print(f\"\"\"\n",
    "        İsim: {self.isim}\n",
    "        Maaş: {self.maaş}\n",
    "        Departman: {self.departman}\n",
    "        sorumlu kişi sayisi: {self.kişi_sayısı}\n",
    "                \"\"\")\n",
    "\n",
    "\n"
   ]
  },
  {
   "cell_type": "code",
   "execution_count": 18,
   "metadata": {},
   "outputs": [
    {
     "name": "stdout",
     "output_type": "stream",
     "text": [
      "yönetici sınıfının init fonksiyonu\n"
     ]
    }
   ],
   "source": [
    "yönetici1= Yönetici(\"faruk\", 30000,'bilgisayar',5)"
   ]
  },
  {
   "cell_type": "markdown",
   "metadata": {},
   "source": [
    "şimdi bilgileri göster methodunu override edelim"
   ]
  },
  {
   "cell_type": "code",
   "execution_count": 19,
   "metadata": {},
   "outputs": [
    {
     "name": "stdout",
     "output_type": "stream",
     "text": [
      "Çalışan Sınıfının Bilgileri........\n",
      "\n",
      "        İsim: faruk\n",
      "        Maaş: 30000\n",
      "        Departman: bilgisayar\n",
      "        sorumlu kişi sayisi: 5\n",
      "                \n"
     ]
    }
   ],
   "source": [
    "yönetici1.bilgileriGoster()"
   ]
  },
  {
   "cell_type": "markdown",
   "metadata": {},
   "source": [
    "# super() anahtar kelimesi\n",
    "\n",
    "özellikle override ettiğimiz bir methodun içinde aynı zamanda miras aldığımız methodu kullanmak istersek, **super()** kullanıyoruz.\n",
    "miras aldığımız methodları alt sınıflardan kullanmamızı sağlar.\n",
    "\n"
   ]
  },
  {
   "cell_type": "code",
   "execution_count": null,
   "metadata": {},
   "outputs": [],
   "source": [
    "class Çalışan():\n",
    "    def __init__(self,isim,maaş,departman):\n",
    "        print(\"Çalışan sınıfı init fonksiyonu\")\n",
    "        self.isim = isim\n",
    "        self.maaş = maaş    # özellikleri tanımladık\n",
    "        self.departman = departman\n",
    "    def bilgileriGoster(self):\n",
    "        print(\"Çalışan Sınıfının Bilgileri........\")\n",
    "        print(f\"\"\"\n",
    "        İsim: {self.isim}\n",
    "        Maaş: {self.maaş}\n",
    "        Departman: {self.departman}\n",
    "                \"\"\")\n",
    "    def departmanDegistir(self,yeni_departman):\n",
    "        print(\"Departman Değiştiriliyor\")\n",
    "        self.departman = yeni_departman"
   ]
  },
  {
   "cell_type": "code",
   "execution_count": 22,
   "metadata": {},
   "outputs": [],
   "source": [
    "class Yonetici(Çalışan):\n",
    "    def __init__(self, isim, maaş, departman, kişi_sayısı):\n",
    "        super().__init__(isim, maaş, departman) #çalışan sınıfından 3 özelliği yöneticiye aktardım\n",
    "        print(\"yönetici sınıfının init fonksiyonu\")\n",
    "        self.kişi_sayısı= kişi_sayısı\n",
    "\n",
    "    def zam_yap(self, miktar):\n",
    "        print(\"zam yapılıyor...\")\n",
    "        self.maaş +=miktar\n",
    "\n",
    "    def bilgileriGoster(self):\n",
    "        print(\"Çalışan Sınıfının Bilgileri........\")\n",
    "        print(f\"\"\"\n",
    "        İsim: {self.isim}\n",
    "        Maaş: {self.maaş}\n",
    "        Departman: {self.departman}\n",
    "        sorumlu kişi sayisi: {self.kişi_sayısı}\n",
    "                \"\"\")\n"
   ]
  },
  {
   "cell_type": "markdown",
   "metadata": {},
   "source": [
    "burada **super().__init__()** diyerek çalışan sınıfının methodunu çağırdım, departman özelliğini methodla belirledim."
   ]
  },
  {
   "cell_type": "code",
   "execution_count": 24,
   "metadata": {},
   "outputs": [
    {
     "name": "stdout",
     "output_type": "stream",
     "text": [
      "Çalışan sınıfı init fonksiyonu\n",
      "yönetici sınıfının init fonksiyonu\n"
     ]
    }
   ],
   "source": [
    "yönetici2=Yonetici(\"musa\", 40000,\"hr\",6)"
   ]
  },
  {
   "cell_type": "code",
   "execution_count": null,
   "metadata": {},
   "outputs": [],
   "source": []
  }
 ],
 "metadata": {
  "kernelspec": {
   "display_name": "sanal_ortam",
   "language": "python",
   "name": "python3"
  },
  "language_info": {
   "codemirror_mode": {
    "name": "ipython",
    "version": 3
   },
   "file_extension": ".py",
   "mimetype": "text/x-python",
   "name": "python",
   "nbconvert_exporter": "python",
   "pygments_lexer": "ipython3",
   "version": "3.12.1"
  }
 },
 "nbformat": 4,
 "nbformat_minor": 2
}
