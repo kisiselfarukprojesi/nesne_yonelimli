{
 "cells": [
  {
   "cell_type": "markdown",
   "metadata": {},
   "source": [
    "# nesne tabanlı programlama -sınıflar"
   ]
  },
  {
   "cell_type": "markdown",
   "metadata": {},
   "source": [
    "bu konuda artık kendi veri tiplerimizi ve objelerimizi üretmeye başlayacağız.\n",
    "kendi veri tiplerimizi oluşturarak ve bu veri tipleirnden objeler üretmemiz için öncelikle üreteceğimiz yapıyı tanımlamamız gerekli. bunu tasarladığımız yapıya da sınıf(class) diyoruz. "
   ]
  },
  {
   "cell_type": "markdown",
   "metadata": {},
   "source": [
    "# class anahtar kelimesi"
   ]
  },
  {
   "cell_type": "markdown",
   "metadata": {},
   "source": [
    "classlar objelerimizi oluşturuken objelerin özelliklerini ve merthodlarını tanımladığımız anlamına geliyor. \n",
    "araba class tanımlayacağız ve yapımızı oluşturmaya başlayalım."
   ]
  },
  {
   "cell_type": "code",
   "execution_count": 1,
   "metadata": {},
   "outputs": [],
   "source": [
    "class araba():\n",
    "    model ='renault megan'\n",
    "    renk ='siyah'           #sınıfın özellikleri\n",
    "    guc=110\n",
    "    silindir=4     "
   ]
  },
  {
   "cell_type": "markdown",
   "metadata": {},
   "source": [
    "sınıfımızda python tanımladık. bu sınıftan obje oluşturmak için:\n",
    "        "
   ]
  },
  {
   "cell_type": "markdown",
   "metadata": {},
   "source": [
    "            obje_ismi= sınıf_ismi(parametreler-opsiyonel-)\n",
    "        "
   ]
  },
  {
   "cell_type": "code",
   "execution_count": 3,
   "metadata": {},
   "outputs": [],
   "source": [
    "araba1= araba() #araba1 isminde obje oluşturduk.guc"
   ]
  },
  {
   "cell_type": "code",
   "execution_count": null,
   "metadata": {},
   "outputs": [
    {
     "data": {
      "text/plain": [
       "<__main__.araba at 0x76afb4143740>"
      ]
     },
     "execution_count": 4,
     "metadata": {},
     "output_type": "execute_result"
    }
   ],
   "source": [
    "araba1 #araba veri tipi "
   ]
  },
  {
   "cell_type": "markdown",
   "metadata": {},
   "source": [
    "araba1 objesi tnaımladığımız bütün attributlere sahib oldu. sınıf ve obje yönetmek bu şekilde olur. bu araba objesinin özelliklerini görmek için:"
   ]
  },
  {
   "cell_type": "markdown",
   "metadata": {},
   "source": [
    "            obje_ismi.özellik_ismi"
   ]
  },
  {
   "cell_type": "code",
   "execution_count": 5,
   "metadata": {},
   "outputs": [
    {
     "data": {
      "text/plain": [
       "110"
      ]
     },
     "execution_count": 5,
     "metadata": {},
     "output_type": "execute_result"
    }
   ],
   "source": [
    "araba1.guc"
   ]
  },
  {
   "cell_type": "code",
   "execution_count": 6,
   "metadata": {},
   "outputs": [
    {
     "data": {
      "text/plain": [
       "'renault megan'"
      ]
     },
     "execution_count": 6,
     "metadata": {},
     "output_type": "execute_result"
    }
   ],
   "source": [
    "araba1.model"
   ]
  },
  {
   "cell_type": "code",
   "execution_count": 7,
   "metadata": {},
   "outputs": [
    {
     "data": {
      "text/plain": [
       "'siyah'"
      ]
     },
     "execution_count": 7,
     "metadata": {},
     "output_type": "execute_result"
    }
   ],
   "source": [
    "araba1.renk"
   ]
  },
  {
   "cell_type": "code",
   "execution_count": 8,
   "metadata": {},
   "outputs": [
    {
     "data": {
      "text/plain": [
       "4"
      ]
     },
     "execution_count": 8,
     "metadata": {},
     "output_type": "execute_result"
    }
   ],
   "source": [
    "araba1.silindir"
   ]
  },
  {
   "cell_type": "markdown",
   "metadata": {},
   "source": [
    "başka araba objesi oluşturalım"
   ]
  },
  {
   "cell_type": "code",
   "execution_count": 9,
   "metadata": {},
   "outputs": [],
   "source": [
    "araba2=araba()"
   ]
  },
  {
   "cell_type": "code",
   "execution_count": 12,
   "metadata": {},
   "outputs": [
    {
     "data": {
      "text/plain": [
       "'renault megan'"
      ]
     },
     "execution_count": 12,
     "metadata": {},
     "output_type": "execute_result"
    }
   ],
   "source": [
    "araba2.model\n"
   ]
  },
  {
   "cell_type": "code",
   "execution_count": 13,
   "metadata": {},
   "outputs": [
    {
     "data": {
      "text/plain": [
       "110"
      ]
     },
     "execution_count": 13,
     "metadata": {},
     "output_type": "execute_result"
    }
   ],
   "source": [
    "araba2.guc"
   ]
  },
  {
   "cell_type": "markdown",
   "metadata": {},
   "source": [
    "objelerin buradaki model renk vb. özellikleri aynıdır, çünkü tanımladığımız özellikler birer sınıfın özelliğidir. burada obje oluşturduğumuzda bu özelliklerin varsayılan olarak aktarılır. bu özelliklerin değerlerine herhangi bir obje oluşturmadan erişilebilir:"
   ]
  },
  {
   "cell_type": "code",
   "execution_count": 14,
   "metadata": {},
   "outputs": [
    {
     "data": {
      "text/plain": [
       "'siyah'"
      ]
     },
     "execution_count": 14,
     "metadata": {},
     "output_type": "execute_result"
    }
   ],
   "source": [
    "araba.renk"
   ]
  },
  {
   "cell_type": "code",
   "execution_count": 15,
   "metadata": {},
   "outputs": [
    {
     "data": {
      "text/plain": [
       "'renault megan'"
      ]
     },
     "execution_count": 15,
     "metadata": {},
     "output_type": "execute_result"
    }
   ],
   "source": [
    "araba.model"
   ]
  },
  {
   "cell_type": "markdown",
   "metadata": {},
   "source": [
    "her objeyi başlangıçta farklı değerlerle oluşturmamız için her bir objeyi oluştururken ogjenin değerlerine göndermemiz gerekiyor. bunun için özel bir methodu kullanmamız gerekiyor."
   ]
  },
  {
   "cell_type": "markdown",
   "metadata": {},
   "source": [
    "dir() fonksiyonu yardımıyla objede neler var bakabiliriz."
   ]
  },
  {
   "cell_type": "code",
   "execution_count": 17,
   "metadata": {},
   "outputs": [
    {
     "data": {
      "text/plain": [
       "['__class__',\n",
       " '__delattr__',\n",
       " '__dict__',\n",
       " '__dir__',\n",
       " '__doc__',\n",
       " '__eq__',\n",
       " '__format__',\n",
       " '__ge__',\n",
       " '__getattribute__',\n",
       " '__getstate__',\n",
       " '__gt__',\n",
       " '__hash__',\n",
       " '__init__',\n",
       " '__init_subclass__',\n",
       " '__le__',\n",
       " '__lt__',\n",
       " '__module__',\n",
       " '__ne__',\n",
       " '__new__',\n",
       " '__reduce__',\n",
       " '__reduce_ex__',\n",
       " '__repr__',\n",
       " '__setattr__',\n",
       " '__sizeof__',\n",
       " '__str__',\n",
       " '__subclasshook__',\n",
       " '__weakref__',\n",
       " 'guc',\n",
       " 'model',\n",
       " 'renk',\n",
       " 'silindir']"
      ]
     },
     "execution_count": 17,
     "metadata": {},
     "output_type": "execute_result"
    }
   ],
   "source": [
    "dir(araba1)"
   ]
  },
  {
   "cell_type": "markdown",
   "metadata": {},
   "source": [
    "burada objenin bütün methodları görüyoruz. tanımlamadığımız methodlar bir obje oluşturulduğunda özel olarak tanımlanan methodlardır. özel olarak method tanımlamazsak, python bunları varsayılan olarak tanımlıyor. \n",
    "\n",
    "__init__ methodu yapıcı(constructer) olarak tanımlanmaktadır. objelerimizi oluştururken otomatik olarak çağrılan ilk methodtur, bunu özel olarak tanımlayarak, objelerimizi farklı değerlerle başlatabiliriz."
   ]
  },
  {
   "cell_type": "code",
   "execution_count": 18,
   "metadata": {},
   "outputs": [],
   "source": [
    "class araba():\n",
    "    #şimdilik class özelliklerine ihtiyaç yok \n",
    "    def __init__(self):\n",
    "        print(\"init fonksiyonu çağrılıyor...\")"
   ]
  },
  {
   "cell_type": "code",
   "execution_count": 19,
   "metadata": {},
   "outputs": [
    {
     "name": "stdout",
     "output_type": "stream",
     "text": [
      "init fonksiyonu çağrılıyor...\n"
     ]
    }
   ],
   "source": [
    "araba1= araba() #otomatik olarak __init__ methodu çağrılıyor."
   ]
  },
  {
   "cell_type": "markdown",
   "metadata": {},
   "source": [
    "buradaki **self** anahtar kelimesi oluşturduğumuz zaman o objeyi gösteren bir referanstır. ve methodlarda en başta bulunması gereken bir parametredir. \n",
    "**objeler oluşturulurken python bu referansı otomatik olarak methodlara gönderir** özel olarak self gönderimine gerek yoktur.\n",
    "\n",
    "**__init__** ve **self**i iyi anlamak için objelere özellik ekleyelim."
   ]
  },
  {
   "cell_type": "code",
   "execution_count": 30,
   "metadata": {},
   "outputs": [],
   "source": [
    "class araba():\n",
    "    def __init__(self,model=\"bilgi yok\",renk=\"bilgi yok\",beygir=\"bilgi yok\",silindir=\"bilgi yok\"): #parametlerin değerlerine objeyi oluştururken göndereceğiz.  \n",
    "        self.model= model #self.özellik_ismi = parametre değeri şeklinde değer atıyoruz.\n",
    "        self.renk= renk\n",
    "        self.beygir=beygir\n",
    "        self.silindir=silindir"
   ]
  },
  {
   "cell_type": "code",
   "execution_count": 24,
   "metadata": {},
   "outputs": [],
   "source": [
    "#objenin özelliklerini istediğimiz değerler verebiliriz.\n",
    "araba1=araba(\"mercedes\",\"yeşil\",85,4)"
   ]
  },
  {
   "cell_type": "code",
   "execution_count": 25,
   "metadata": {},
   "outputs": [],
   "source": [
    "araba2=araba(\"bmw\",\"kırmızı\",100,4)"
   ]
  },
  {
   "cell_type": "code",
   "execution_count": 26,
   "metadata": {},
   "outputs": [
    {
     "data": {
      "text/plain": [
       "'mercedes'"
      ]
     },
     "execution_count": 26,
     "metadata": {},
     "output_type": "execute_result"
    }
   ],
   "source": [
    "araba1.model"
   ]
  },
  {
   "cell_type": "code",
   "execution_count": 27,
   "metadata": {},
   "outputs": [
    {
     "data": {
      "text/plain": [
       "'bmw'"
      ]
     },
     "execution_count": 27,
     "metadata": {},
     "output_type": "execute_result"
    }
   ],
   "source": [
    "araba2.model"
   ]
  },
  {
   "cell_type": "code",
   "execution_count": 28,
   "metadata": {},
   "outputs": [
    {
     "data": {
      "text/plain": [
       "'yeşil'"
      ]
     },
     "execution_count": 28,
     "metadata": {},
     "output_type": "execute_result"
    }
   ],
   "source": [
    "araba1.renk"
   ]
  },
  {
   "cell_type": "code",
   "execution_count": 31,
   "metadata": {},
   "outputs": [
    {
     "data": {
      "text/plain": [
       "'kırmızı'"
      ]
     },
     "execution_count": 31,
     "metadata": {},
     "output_type": "execute_result"
    }
   ],
   "source": [
    "araba2.renk"
   ]
  },
  {
   "cell_type": "code",
   "execution_count": 34,
   "metadata": {},
   "outputs": [
    {
     "data": {
      "text/plain": [
       "'bilgi yok'"
      ]
     },
     "execution_count": 34,
     "metadata": {},
     "output_type": "execute_result"
    }
   ],
   "source": [
    "araba3=araba()\n",
    "araba3.beygir\n"
   ]
  }
 ],
 "metadata": {
  "kernelspec": {
   "display_name": "sanal_ortam",
   "language": "python",
   "name": "python3"
  },
  "language_info": {
   "codemirror_mode": {
    "name": "ipython",
    "version": 3
   },
   "file_extension": ".py",
   "mimetype": "text/x-python",
   "name": "python",
   "nbconvert_exporter": "python",
   "pygments_lexer": "ipython3",
   "version": "3.12.1"
  }
 },
 "nbformat": 4,
 "nbformat_minor": 2
}
